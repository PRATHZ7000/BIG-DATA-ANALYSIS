{
  "nbformat": 4,
  "nbformat_minor": 0,
  "metadata": {
    "colab": {
      "provenance": []
    },
    "kernelspec": {
      "name": "python3",
      "display_name": "Python 3"
    },
    "language_info": {
      "name": "python"
    }
  },
  "cells": [
    {
      "cell_type": "code",
      "source": [
        "pip install pyspark"
      ],
      "metadata": {
        "colab": {
          "base_uri": "https://localhost:8080/"
        },
        "id": "v4Wxvkm7lU6j",
        "outputId": "1ef3cbb3-e680-4c20-8b5f-f18190a2bdac"
      },
      "execution_count": 24,
      "outputs": [
        {
          "output_type": "stream",
          "name": "stdout",
          "text": [
            "Requirement already satisfied: pyspark in /usr/local/lib/python3.11/dist-packages (3.5.1)\n",
            "Requirement already satisfied: py4j==0.10.9.7 in /usr/local/lib/python3.11/dist-packages (from pyspark) (0.10.9.7)\n"
          ]
        }
      ]
    },
    {
      "cell_type": "code",
      "source": [
        "from pyspark.sql import SparkSession\n",
        "\n",
        "# Initialize Spark Session\n",
        "spark = SparkSession.builder \\\n",
        "    .appName(\"Big Data Analysis - College Data\") \\\n",
        "    .getOrCreate()"
      ],
      "metadata": {
        "id": "fmC4nj3vlbrD"
      },
      "execution_count": 25,
      "outputs": []
    },
    {
      "cell_type": "code",
      "source": [
        "df = spark.read.csv(\"/content/drive/MyDrive/task data set/College.csv\", header=True, inferSchema=True)\n",
        "\n",
        "# Show first few rows\n",
        "df.show(5)"
      ],
      "metadata": {
        "colab": {
          "base_uri": "https://localhost:8080/"
        },
        "id": "2WY81PYNldTa",
        "outputId": "b183e4aa-f075-48b8-f528-a922c773f534"
      },
      "execution_count": 27,
      "outputs": [
        {
          "output_type": "stream",
          "name": "stdout",
          "text": [
            "+--------------------+-------+----+------+------+---------+---------+-----------+-----------+--------+----------+-----+--------+---+--------+---------+-----------+------+---------+\n",
            "|                 _c0|Private|Apps|Accept|Enroll|Top10perc|Top25perc|F.Undergrad|P.Undergrad|Outstate|Room.Board|Books|Personal|PhD|Terminal|S.F.Ratio|perc.alumni|Expend|Grad.Rate|\n",
            "+--------------------+-------+----+------+------+---------+---------+-----------+-----------+--------+----------+-----+--------+---+--------+---------+-----------+------+---------+\n",
            "|Abilene Christian...|    Yes|1660|  1232|   721|       23|       52|       2885|        537|    7440|      3300|  450|    2200| 70|      78|     18.1|         12|  7041|       60|\n",
            "|  Adelphi University|    Yes|2186|  1924|   512|       16|       29|       2683|       1227|   12280|      6450|  750|    1500| 29|      30|     12.2|         16| 10527|       56|\n",
            "|      Adrian College|    Yes|1428|  1097|   336|       22|       50|       1036|         99|   11250|      3750|  400|    1165| 53|      66|     12.9|         30|  8735|       54|\n",
            "| Agnes Scott College|    Yes| 417|   349|   137|       60|       89|        510|         63|   12960|      5450|  450|     875| 92|      97|      7.7|         37| 19016|       59|\n",
            "|Alaska Pacific Un...|    Yes| 193|   146|    55|       16|       44|        249|        869|    7560|      4120|  800|    1500| 76|      72|     11.9|          2| 10922|       15|\n",
            "+--------------------+-------+----+------+------+---------+---------+-----------+-----------+--------+----------+-----+--------+---+--------+---------+-----------+------+---------+\n",
            "only showing top 5 rows\n",
            "\n"
          ]
        }
      ]
    },
    {
      "cell_type": "code",
      "source": [
        "df.printSchema()\n",
        "\n",
        "# Count rows\n",
        "print(\"Total Records:\", df.count())"
      ],
      "metadata": {
        "colab": {
          "base_uri": "https://localhost:8080/"
        },
        "id": "vfVEdG17lhb6",
        "outputId": "460523d4-e89b-4d39-8406-f033fdfcf7ce"
      },
      "execution_count": 39,
      "outputs": [
        {
          "output_type": "stream",
          "name": "stdout",
          "text": [
            "root\n",
            " |-- _c0: string (nullable = true)\n",
            " |-- Private: string (nullable = true)\n",
            " |-- Apps: integer (nullable = true)\n",
            " |-- Accept: integer (nullable = true)\n",
            " |-- Enroll: integer (nullable = true)\n",
            " |-- Top10perc: integer (nullable = true)\n",
            " |-- Top25perc: integer (nullable = true)\n",
            " |-- F_Undergrad: integer (nullable = true)\n",
            " |-- P_Undergrad: integer (nullable = true)\n",
            " |-- Outstate: integer (nullable = true)\n",
            " |-- Room_Board: integer (nullable = true)\n",
            " |-- Books: integer (nullable = true)\n",
            " |-- Personal: integer (nullable = true)\n",
            " |-- PhD: integer (nullable = true)\n",
            " |-- Terminal: integer (nullable = true)\n",
            " |-- S_F_Ratio: double (nullable = true)\n",
            " |-- perc_alumni: integer (nullable = true)\n",
            " |-- Expend: integer (nullable = true)\n",
            " |-- Grad_Rate: integer (nullable = true)\n",
            " |-- Private_Binary: integer (nullable = false)\n",
            "\n",
            "Total Records: 777\n"
          ]
        }
      ]
    },
    {
      "cell_type": "code",
      "source": [
        "from pyspark.sql.functions import col\n",
        "\n",
        "# Rename columns with periods\n",
        "df = df.withColumnRenamed(\"F.Undergrad\", \"F_Undergrad\") \\\n",
        "       .withColumnRenamed(\"P.Undergrad\", \"P_Undergrad\") \\\n",
        "       .withColumnRenamed(\"Room.Board\", \"Room_Board\") \\\n",
        "       .withColumnRenamed(\"S.F.Ratio\", \"S_F_Ratio\") \\\n",
        "       .withColumnRenamed(\"perc.alumni\", \"perc_alumni\") \\\n",
        "       .withColumnRenamed(\"Grad.Rate\", \"Grad_Rate\")\n",
        "\n",
        "# Now apply dropna and dropDuplicates\n",
        "df = df.dropna()\n",
        "\n",
        "# Remove duplicates\n",
        "df = df.dropDuplicates()"
      ],
      "metadata": {
        "id": "MgYFlGxBln0L"
      },
      "execution_count": 31,
      "outputs": []
    },
    {
      "cell_type": "code",
      "source": [
        "from pyspark.sql.functions import col, when\n",
        "\n",
        "# Example: Convert 'Private' column to binary\n",
        "df = df.withColumn(\"Private_Binary\", when(col(\"Private\") == \"Yes\", 1).otherwise(0))"
      ],
      "metadata": {
        "id": "nvw2FZ5hlxST"
      },
      "execution_count": 32,
      "outputs": []
    },
    {
      "cell_type": "code",
      "source": [
        "df.groupBy(\"Private\").avg(\"Outstate\").show()"
      ],
      "metadata": {
        "colab": {
          "base_uri": "https://localhost:8080/"
        },
        "id": "Mrw5eJUimAjT",
        "outputId": "150485c1-e468-456a-db0e-dd3ed4b4a431"
      },
      "execution_count": 33,
      "outputs": [
        {
          "output_type": "stream",
          "name": "stdout",
          "text": [
            "+-------+------------------+\n",
            "|Private|     avg(Outstate)|\n",
            "+-------+------------------+\n",
            "|     No|  6813.41037735849|\n",
            "|    Yes|11801.693805309735|\n",
            "+-------+------------------+\n",
            "\n"
          ]
        }
      ]
    },
    {
      "cell_type": "code",
      "source": [
        "df.select(\"Apps\", \"Accept\").summary(\"mean\", \"stddev\", \"min\", \"max\").show()"
      ],
      "metadata": {
        "colab": {
          "base_uri": "https://localhost:8080/"
        },
        "id": "QZ1DuLXUmEv6",
        "outputId": "7dfc8ef6-6fa7-4385-b8b4-f83e46a1c678"
      },
      "execution_count": 34,
      "outputs": [
        {
          "output_type": "stream",
          "name": "stdout",
          "text": [
            "+-------+------------------+------------------+\n",
            "|summary|              Apps|            Accept|\n",
            "+-------+------------------+------------------+\n",
            "|   mean|3001.6383526383524|2018.8043758043757|\n",
            "| stddev|3870.2014844352884|2451.1139709926306|\n",
            "|    min|                81|                72|\n",
            "|    max|             48094|             26330|\n",
            "+-------+------------------+------------------+\n",
            "\n"
          ]
        }
      ]
    },
    {
      "cell_type": "code",
      "source": [
        "df.orderBy(col(\"Grad_Rate\").desc()).select(\"_c0\", \"Grad_Rate\").show(10)"
      ],
      "metadata": {
        "colab": {
          "base_uri": "https://localhost:8080/"
        },
        "id": "HHNcJxQnmGYh",
        "outputId": "a2c518bc-c0cf-4ae0-bde3-4758e19f0889"
      },
      "execution_count": 36,
      "outputs": [
        {
          "output_type": "stream",
          "name": "stdout",
          "text": [
            "+--------------------+---------+\n",
            "|                 _c0|Grad_Rate|\n",
            "+--------------------+---------+\n",
            "|   Cazenovia College|      118|\n",
            "|University of Ric...|      100|\n",
            "|  Lindenwood College|      100|\n",
            "|  Harvard University|      100|\n",
            "|       Siena College|      100|\n",
            "|     Amherst College|      100|\n",
            "|Santa Clara Unive...|      100|\n",
            "| Harvey Mudd College|      100|\n",
            "|College of Mount ...|      100|\n",
            "|Missouri Southern...|      100|\n",
            "+--------------------+---------+\n",
            "only showing top 10 rows\n",
            "\n"
          ]
        }
      ]
    },
    {
      "cell_type": "code",
      "source": [
        "print(\"Number of partitions:\", df.rdd.getNumPartitions())\n",
        "\n",
        "# Repartition if needed (e.g., for distributed performance)\n",
        "df = df.repartition(4)"
      ],
      "metadata": {
        "colab": {
          "base_uri": "https://localhost:8080/"
        },
        "id": "NNsTMesrmI0q",
        "outputId": "a2348e54-e1bc-48e7-e062-bd7a5d5e3f3f"
      },
      "execution_count": 37,
      "outputs": [
        {
          "output_type": "stream",
          "name": "stdout",
          "text": [
            "Number of partitions: 1\n"
          ]
        }
      ]
    },
    {
      "cell_type": "code",
      "source": [
        "sample_df = df.sample(fraction=0.1).toPandas()\n",
        "\n",
        "import matplotlib.pyplot as plt\n",
        "import seaborn as sns\n",
        "\n",
        "sns.scatterplot(x='Apps', y='Accept', data=sample_df)\n",
        "plt.show()"
      ],
      "metadata": {
        "colab": {
          "base_uri": "https://localhost:8080/",
          "height": 449
        },
        "id": "VLVryYc7mOGK",
        "outputId": "92364671-9bc5-4dee-ded1-88a9a5520e3d"
      },
      "execution_count": 38,
      "outputs": [
        {
          "output_type": "display_data",
          "data": {
            "text/plain": [
              "<Figure size 640x480 with 1 Axes>"
            ],
            "image/png": "[encoded data removed]"
          },
          "metadata": {}
        }
      ]
    }
  ]
}